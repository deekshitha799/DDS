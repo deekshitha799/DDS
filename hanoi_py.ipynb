{
  "nbformat": 4,
  "nbformat_minor": 0,
  "metadata": {
    "colab": {
      "provenance": [],
      "authorship_tag": "ABX9TyPiBe6U+XfI4PNVo6IYLCLY",
      "include_colab_link": true
    },
    "kernelspec": {
      "name": "python3",
      "display_name": "Python 3"
    },
    "language_info": {
      "name": "python"
    }
  },
  "cells": [
    {
      "cell_type": "markdown",
      "metadata": {
        "id": "view-in-github",
        "colab_type": "text"
      },
      "source": [
        "<a href=\"https://colab.research.google.com/github/deekshitha799/DDS/blob/main/hanoi_py.ipynb\" target=\"_parent\"><img src=\"https://colab.research.google.com/assets/colab-badge.svg\" alt=\"Open In Colab\"/></a>"
      ]
    },
    {
      "cell_type": "code",
      "execution_count": null,
      "metadata": {
        "colab": {
          "base_uri": "https://localhost:8080/"
        },
        "id": "V0u_909paYl7",
        "outputId": "1afc3c9b-6fcb-4786-cc17-67914e7e8d6d"
      },
      "outputs": [
        {
          "output_type": "stream",
          "name": "stdout",
          "text": [
            "Overwriting lab4_hanoi.cpp\n"
          ]
        }
      ],
      "source": [
        "%%writefile lab4_hanoi.cpp\n",
        "#include<iostream>\n",
        "using namespace std;\n",
        " void hanoi(int n, char source, char destination, char auxiliary) {\n",
        "  if(n == 1) {\n",
        "    cout << \"Move disk 1 from\" << source << \"to\" << destination << endl;\n",
        "    return;\n",
        "  }\n",
        "  hanoi(n-1, source, destination, auxiliary);\n",
        "  cout << \"Move disk\" << n << \"from\" << source << \"to\" << destination << endl;\n",
        "  hanoi(n-1, auxiliary, destination, source);\n",
        "}\n",
        "\n",
        "int main() {\n",
        "  int n = 3;\n",
        "  cout << \"Tower if hanoi (C++) - steps for \" << n << \"disk:\" << endl << endl;\n",
        "  hanoi(n, 'A', 'C', 'B');\n",
        "  return 0;\n",
        "}"
      ]
    },
    {
      "cell_type": "code",
      "source": [
        "!g++ lab4_hanoi.cpp -o lab4_cpp && ./lab4_cpp"
      ],
      "metadata": {
        "colab": {
          "base_uri": "https://localhost:8080/"
        },
        "id": "bjS4sWbqd5Vi",
        "outputId": "0c764a96-ac84-4a6b-d990-d0f3e93c6d36"
      },
      "execution_count": null,
      "outputs": [
        {
          "output_type": "stream",
          "name": "stdout",
          "text": [
            "Tower if hanoi (C++) - steps for 3disk:\n",
            "\n",
            "Move disk 1 fromAtoC\n",
            "Move disk2fromAtoC\n",
            "Move disk 1 fromBtoC\n",
            "Move disk3fromAtoC\n",
            "Move disk 1 fromBtoC\n",
            "Move disk2fromBtoC\n",
            "Move disk 1 fromAtoC\n"
          ]
        }
      ]
    }
  ]
}