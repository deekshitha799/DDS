{
  "nbformat": 4,
  "nbformat_minor": 0,
  "metadata": {
    "colab": {
      "provenance": [],
      "include_colab_link": true
    },
    "kernelspec": {
      "name": "python3",
      "display_name": "Python 3"
    },
    "language_info": {
      "name": "python"
    }
  },
  "cells": [
    {
      "cell_type": "markdown",
      "metadata": {
        "id": "view-in-github",
        "colab_type": "text"
      },
      "source": [
        "<a href=\"https://colab.research.google.com/github/deekshitha799/DDS/blob/main/sttest.ipynb\" target=\"_parent\"><img src=\"https://colab.research.google.com/assets/colab-badge.svg\" alt=\"Open In Colab\"/></a>"
      ]
    },
    {
      "cell_type": "code",
      "execution_count": null,
      "metadata": {
        "colab": {
          "base_uri": "https://localhost:8080/"
        },
        "id": "4R76JPpZS-zk",
        "outputId": "d9a52436-8934-4300-8598-8fea4094b3aa"
      },
      "outputs": [
        {
          "output_type": "stream",
          "name": "stdout",
          "text": [
            "Overwriting st.cpp\n"
          ]
        }
      ],
      "source": [
        "%%writefile st.cpp\n",
        "\n",
        "#include <iostream>\n",
        "using namespace std;\n",
        "\n",
        "class Stack {\n",
        "private:\n",
        "    int* arr;\n",
        "    int top;\n",
        "    int capacity;\n",
        "\n",
        "public:\n",
        "    // Constructor\n",
        "    Stack(int size) {\n",
        "        capacity = size;\n",
        "        arr = new int[capacity];\n",
        "        top = -1;\n",
        "    }\n",
        "\n",
        "    // Destructor\n",
        "    ~Stack() {\n",
        "        delete[] arr;\n",
        "    }\n",
        "\n",
        "    // Push element onto the stack\n",
        "    void push(int value) {\n",
        "        if (isFull()) {\n",
        "            cout << \"Stack Overflow\\n\";\n",
        "            return;\n",
        "        }\n",
        "        arr[++top] = value;\n",
        "    }\n",
        "\n",
        "    // Pop element from the stack\n",
        "    void pop() {\n",
        "        if (isEmpty()) {\n",
        "            cout << \"Stack Underflow\\n\";\n",
        "            return;\n",
        "        }\n",
        "        top--;\n",
        "    }\n",
        "\n",
        "    // Return the top element\n",
        "    int peek() {\n",
        "        if (isEmpty()) {\n",
        "            cout << \"Stack is empty\\n\";\n",
        "            return -1; // or throw an exception\n",
        "        }\n",
        "        return arr[top];\n",
        "    }\n",
        "\n",
        "    // Check if stack is empty\n",
        "    bool isEmpty() {\n",
        "        return top == -1;\n",
        "    }\n",
        "\n",
        "    // Check if stack is full\n",
        "    bool isFull() {\n",
        "        return top == capacity - 1;\n",
        "    }\n",
        "\n",
        "    // Display all elements\n",
        "    void display() {\n",
        "        if (isEmpty()) {\n",
        "            cout << \"Stack is empty\\n\";\n",
        "            return;\n",
        "        }\n",
        "        cout << \"Stack elements: \";\n",
        "        for (int i = top; i >= 0; --i)\n",
        "            cout << arr[i] << \" \";\n",
        "        cout << \"\\n\";\n",
        "    }\n",
        "};\n",
        "\n",
        "int main() {\n",
        "    Stack s(5); // Stack of size 5\n",
        "\n",
        "    s.push(10);\n",
        "    s.push(20);\n",
        "    s.push(30);\n",
        "\n",
        "    s.display();           // Output: 30 20 10\n",
        "    cout << \"Top: \" << s.peek() << \"\\n\"; // Output: 30\n",
        "\n",
        "    s.pop();\n",
        "    s.display();           // Output: 20 10\n",
        "\n",
        "    return 0;\n",
        "}\n"
      ]
    },
    {
      "cell_type": "code",
      "source": [
        "!g++ st.cpp"
      ],
      "metadata": {
        "id": "89S-XcbcTlat"
      },
      "execution_count": null,
      "outputs": []
    },
    {
      "cell_type": "code",
      "source": [
        "!./a.out"
      ],
      "metadata": {
        "colab": {
          "base_uri": "https://localhost:8080/"
        },
        "id": "TmTmV08GTqyL",
        "outputId": "0f39b59f-3a86-4109-e3dd-ca68dfbaebf7"
      },
      "execution_count": null,
      "outputs": [
        {
          "output_type": "stream",
          "name": "stdout",
          "text": [
            "Stack elements: 30 20 10 \n",
            "Top: 30\n",
            "Stack elements: 20 10 \n"
          ]
        }
      ]
    },
    {
      "cell_type": "code",
      "source": [
        "%%writefile anand.cpp"
      ],
      "metadata": {
        "colab": {
          "base_uri": "https://localhost:8080/"
        },
        "id": "xGPfKRVbVaoL",
        "outputId": "dbb2a874-b9e5-4b6a-957d-d42d5346d1be"
      },
      "execution_count": null,
      "outputs": [
        {
          "output_type": "stream",
          "name": "stdout",
          "text": [
            "Writing anand.cpp\n"
          ]
        }
      ]
    }
  ]
}
